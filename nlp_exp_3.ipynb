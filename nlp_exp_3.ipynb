{
  "cells": [
    {
      "cell_type": "code",
      "source": [
        "from IPython.core.display import display, HTML\n",
        "display(HTML(\"<style> pre { background-color: white!important; }</style>\"))\n",
        "!pip install contractions\n",
        "import contractions\n",
        "import pandas as pd\n",
        "text=pd.read_csv(\"/content/train-balanced-sarcasm.csv\")\n",
        "data=text['comment']\n",
        "n=int(input(\"enter line index of comment\"))\n",
        "print('original data :' + data[n])\n",
        "expanded_words = []\n",
        "for word in data[n].split():\n",
        "  expanded_words.append(contractions.fix(word))\n",
        "  expanded_text = ' '.join(expanded_words)\n",
        "print('expanded text : ' + expanded_text)"
      ],
      "metadata": {
        "id": "sHmPfRUYKHFk",
        "outputId": "03aa85b5-e2e3-449a-e002-300835112712",
        "colab": {
          "base_uri": "https://localhost:8080/"
        }
      },
      "execution_count": null,
      "outputs": [
        {
          "output_type": "stream",
          "name": "stdout",
          "text": [
            "Requirement already satisfied: contractions in /usr/local/lib/python3.11/dist-packages (0.1.73)\n",
            "Requirement already satisfied: textsearch>=0.0.21 in /usr/local/lib/python3.11/dist-packages (from contractions) (0.0.24)\n",
            "Requirement already satisfied: anyascii in /usr/local/lib/python3.11/dist-packages (from textsearch>=0.0.21->contractions) (0.3.2)\n",
            "Requirement already satisfied: pyahocorasick in /usr/local/lib/python3.11/dist-packages (from textsearch>=0.0.21->contractions) (2.1.0)\n",
            "enter line index of comment5\n",
            "original data :I don't pay attention to her, but as long as she's legal I wouldn't kick her out of bed (before she took a load)\n",
            "expanded text : I do not pay attention to her, but as long as she is legal I would not kick her out of bed (before she took a load)\n"
          ]
        }
      ]
    }
  ],
  "metadata": {
    "colab": {
      "provenance": []
    },
    "kernelspec": {
      "display_name": "Python 3",
      "name": "python3"
    }
  },
  "nbformat": 4,
  "nbformat_minor": 0
}