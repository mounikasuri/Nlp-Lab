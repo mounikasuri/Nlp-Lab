{
  "nbformat": 4,
  "nbformat_minor": 0,
  "metadata": {
    "colab": {
      "provenance": [],
      "authorship_tag": "ABX9TyNLL/KjUXZKLYInVuw75RQS",
      "include_colab_link": true
    },
    "kernelspec": {
      "name": "python3",
      "display_name": "Python 3"
    },
    "language_info": {
      "name": "python"
    }
  },
  "cells": [
    {
      "cell_type": "markdown",
      "metadata": {
        "id": "view-in-github",
        "colab_type": "text"
      },
      "source": [
        "<a href=\"https://colab.research.google.com/github/mounikasuri/Nlp-Lab/blob/main/nlp_exp_8.ipynb\" target=\"_parent\"><img src=\"https://colab.research.google.com/assets/colab-badge.svg\" alt=\"Open In Colab\"/></a>"
      ]
    },
    {
      "source": [
        "\n",
        "from textblob.classifiers import NaiveBayesClassifier\n",
        "from textblob import TextBlob\n",
        "\n",
        "train_data = [\n",
        "    (\" i love this movie\", \"pos\"),\n",
        "    (\"this is an amazing movie!\", \"pos\"),\n",
        "    (\"i hate this movie\", \"neg\"),\n",
        "    (\"this is a terrible movie\", \"neg\")\n",
        "]\n",
        "\n",
        "clf = NaiveBayesClassifier(train_data)\n",
        "print(clf.classify(\"this movie is just okay\"))\n",
        "print(clf.classify(\"this is a terrible movie\"))"
      ],
      "cell_type": "code",
      "metadata": {
        "colab": {
          "base_uri": "https://localhost:8080/"
        },
        "id": "zZReek61Rg-1",
        "outputId": "37108963-d91f-4c04-f870-b060f27c8d88"
      },
      "execution_count": 6,
      "outputs": [
        {
          "output_type": "stream",
          "name": "stdout",
          "text": [
            "pos\n",
            "neg\n"
          ]
        }
      ]
    },
    {
      "source": [
        "from textblob.classifiers import NaiveBayesClassifier\n",
        "from textblob import TextBlob\n",
        "import pandas as pd\n",
        "import csv\n",
        "train_data=pd.read_csv(\"/content/train.csv\")\n",
        "train_data_list = list(zip(train_data['text'], train_data['sentiment']))\n",
        "data=train_data['text']\n",
        "n=int(input(\"enter line index\"))\n",
        "print(data[n])\n",
        "clf = NaiveBayesClassifier(train_data_list)\n",
        "print(clf.classify(train_data_list[n]))"
      ],
      "cell_type": "code",
      "metadata": {
        "colab": {
          "base_uri": "https://localhost:8080/"
        },
        "id": "CzHMPYwrZjUG",
        "outputId": "6ae85eaf-91b5-433a-db6a-5fd3108644e7"
      },
      "execution_count": null,
      "outputs": [
        {
          "output_type": "stream",
          "name": "stdout",
          "text": [
            "enter line index98\n",
            "The plot is rocky. The acting is somewhere south of a Jr. High School play. The cinematography is not bad but it looks like it was cut with a machete. I couldn't decide of this was an intentionally hokey flick or if the people behind it actually thought they were making a good film. Think Death Valley Days meets Mayberry RFD. People running around in a 'lawless' modern town wearing quick-draw 6 gun rigs. It has more than its fair share of 'cutsey' stuff. Picture the Good Guys pulling up to an old farm house, and parking the Ford Mustang right in front of a hitching rail. Picture the clerk in a hotel watching an obviously western (hemisphere) movie sporting a Japanese sound track but with English sub-titles. It's all really strange but might be improved if watching it while partaking in a little peyote. It's a real curiosity with modern parallels to every western movie cliché you can think of. There's even a modern version of the good hearted dance-hall girl, AND a twanging Jew's-harp in the soundtrack. Really! If someone brings this to your home for a Saturday night movie session, tell 'em your DVD player died.\n"
          ]
        }
      ]
    }
  ]
}