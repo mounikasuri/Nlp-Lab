{
  "nbformat": 4,
  "nbformat_minor": 0,
  "metadata": {
    "colab": {
      "provenance": [],
      "authorship_tag": "ABX9TyOMEeIf4IGQtuBiXIRvTCSa",
      "include_colab_link": true
    },
    "kernelspec": {
      "name": "python3",
      "display_name": "Python 3"
    },
    "language_info": {
      "name": "python"
    }
  },
  "cells": [
    {
      "cell_type": "markdown",
      "metadata": {
        "id": "view-in-github",
        "colab_type": "text"
      },
      "source": [
        "<a href=\"https://colab.research.google.com/github/mounikasuri/Nlp-Lab/blob/main/nlp_exp_10.ipynb\" target=\"_parent\"><img src=\"https://colab.research.google.com/assets/colab-badge.svg\" alt=\"Open In Colab\"/></a>"
      ]
    },
    {
      "cell_type": "markdown",
      "source": [
        "**AIM:** Italicized text Convert text to vectors (using term frequency) and apply cosine similarity to provide closeness among two text.\n",
        "\n",
        "**Descripiton**:Converting text to vectors using term frequency (TF) is a common approach to analyze and compare textual data. It involves transforming the raw text data into numerical feature vectors, where each feature represents a unique term in the text. These vectors can be used to calculate the cosine similarity between two texts, which is a measure of their closeness or similarity. A cosine similarity score of 1 indicates that the two texts are identical, while a score of 0 means they have no common terms. This technique is widely used in information retrieval, recommendation systems, and other natural language processing applications."
      ],
      "metadata": {
        "id": "JywAYuRESv_s"
      }
    },
    {
      "cell_type": "code",
      "source": [
        "from sklearn.feature_extraction.text import CountVectorizer\n",
        "from sklearn.metrics.pairwise import cosine_similarity\n",
        "text_data = [\"This is a text document\",\n",
        "             \"This is another document\",\n",
        "             \"A third document for comparison\"]\n",
        "vectorizer = CountVectorizer()\n",
        "vectors = vectorizer.fit_transform(text_data).toarray()\n",
        "cos_sim = cosine_similarity(vectors[0].reshape(1, -1), vectors[1].reshape(1, -1))\n",
        "print(\"Cosine Similarity between Text 1 and Text 2:\", cos_sim[0][0])\n",
        "cos_sim = cosine_similarity(vectors[0].reshape(1, -1), vectors[2].reshape(1, -1))\n",
        "print(\"Cosine Similarity between Text 1 and Text 3:\", cos_sim[0][0])"
      ],
      "metadata": {
        "colab": {
          "base_uri": "https://localhost:8080/"
        },
        "id": "sgNgZ9H2TCA6",
        "outputId": "44b093bb-2f63-4906-8154-8fbcaf1390fd"
      },
      "execution_count": 1,
      "outputs": [
        {
          "output_type": "stream",
          "name": "stdout",
          "text": [
            "Cosine Similarity between Text 1 and Text 2: 0.75\n",
            "Cosine Similarity between Text 1 and Text 3: 0.25\n"
          ]
        }
      ]
    },
    {
      "source": [
        "from sklearn.feature_extraction.text import CountVectorizer\n",
        "from sklearn.metrics.pairwise import cosine_similarity\n",
        "import pandas as pd\n",
        "import numpy as np\n",
        "\n",
        "text_data = pd.read_csv(\"/content/Clothing Reviews.csv\")\n",
        "text_data = text_data['Review Text'].values.astype('U')\n",
        "vectorizer = CountVectorizer()\n",
        "vectors = vectorizer.fit_transform(text_data).toarray()\n",
        "\n",
        "n = int(input(\"enter index of 1st sentence\"))\n",
        "m = int(input(\"enter index of 2nd sentence\"))\n",
        "o = int(input(\"enter index of 3rd sentence\"))\n",
        "\n",
        "cos_sim = cosine_similarity(vectors[n].reshape(1, -1), vectors[m].reshape(1, -1))\n",
        "print(\"Cosine Similarity between Text 1 and Text 2:\", cos_sim[0][0]) # Access the element at [0][0]\n",
        "\n",
        "cos_sim = cosine_similarity(vectors[n].reshape(1, -1), vectors[o].reshape(1, -1))\n",
        "print(\"Cosine Similarity between Text 1 and Text 3:\", cos_sim[0][0]) # Access the element at [0][0]"
      ],
      "cell_type": "code",
      "metadata": {
        "colab": {
          "base_uri": "https://localhost:8080/"
        },
        "id": "j6Q8hbyZVv5S",
        "outputId": "80b74662-5165-4020-ab61-4eac574def59"
      },
      "execution_count": 4,
      "outputs": [
        {
          "output_type": "stream",
          "name": "stdout",
          "text": [
            "enter index of 1st sentence35\n",
            "enter index of 2nd sentence45\n",
            "enter index of 3rd sentence55\n",
            "Cosine Similarity between Text 1 and Text 2: 0.09045340337332908\n",
            "Cosine Similarity between Text 1 and Text 3: 0.03450327796711771\n"
          ]
        }
      ]
    }
  ]
}