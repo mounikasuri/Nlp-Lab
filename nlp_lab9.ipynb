{
  "nbformat": 4,
  "nbformat_minor": 0,
  "metadata": {
    "colab": {
      "provenance": [],
      "authorship_tag": "ABX9TyNl/6yTyWUSRSE614L9u/Zw",
      "include_colab_link": true
    },
    "kernelspec": {
      "name": "python3",
      "display_name": "Python 3"
    },
    "language_info": {
      "name": "python"
    }
  },
  "cells": [
    {
      "cell_type": "markdown",
      "metadata": {
        "id": "view-in-github",
        "colab_type": "text"
      },
      "source": [
        "<a href=\"https://colab.research.google.com/github/mounikasuri/Nlp-Lab/blob/main/nlp_lab9.ipynb\" target=\"_parent\"><img src=\"https://colab.research.google.com/assets/colab-badge.svg\" alt=\"Open In Colab\"/></a>"
      ]
    },
    {
      "source": [
        "from sklearn.feature_extraction.text import CountVectorizer\n",
        "from sklearn.svm import SVC\n",
        "from sklearn.model_selection import train_test_split\n",
        "import numpy as np\n",
        "text_data = [     \"This movie was amazing!\",\n",
        "             \"I didn't like this movie\",\n",
        "                  \"The plot was confusing\",\n",
        "                  \"The acting was fantastic\",\n",
        "                  \"I would definitely recommend this movie\",\n",
        "                  \"This movie was a letdown\" ]\n",
        "labels = [1, 0, 0, 1, 1, 0]\n",
        "vectorizer = CountVectorizer()\n",
        "X = vectorizer.fit_transform(text_data)\n",
        "y = np.array(labels)\n",
        "X_train, X_test, y_train, y_test = train_test_split(X, y, test_size=0.2, random_state=42)\n",
        "clf = SVC(kernel='linear')\n",
        "clf.fit(X_train, y_train)\n",
        "accuracy = clf.score(X_test, y_test)\n",
        "print(\"Accuracy:\", accuracy)"
      ],
      "cell_type": "code",
      "metadata": {
        "colab": {
          "base_uri": "https://localhost:8080/"
        },
        "id": "dOIdONaVX32P",
        "outputId": "99d1227b-e16f-44ca-e29e-e5c3382f3925"
      },
      "execution_count": 8,
      "outputs": [
        {
          "output_type": "stream",
          "name": "stdout",
          "text": [
            "Accuracy: 0.5\n"
          ]
        }
      ]
    },
    {
      "source": [
        "import pandas as pd\n",
        "from sklearn.feature_extraction.text import CountVectorizer\n",
        "from sklearn.svm import SVC\n",
        "from sklearn.model_selection import train_test_split\n",
        "import numpy as np\n",
        "text_data = pd.read_csv(\"/content/IMDB Dataset.csv\", encoding='latin-1', on_bad_lines='skip', quoting=3)\n",
        "print(text_data.columns)\n",
        "text_data = text_data.dropna(subset=['review', 'sentiment']) # Added 'sentiment' to drop rows with NaN in labels\n",
        "text_data['review'] = text_data['review'].astype(str)\n",
        "labels = text_data['sentiment'].values\n",
        "vectorizer = CountVectorizer()\n",
        "X = vectorizer.fit_transform(text_data['review'])\n",
        "y = np.array(labels)\n",
        "X_train, X_test, y_train, y_test = train_test_split(X, y, test_size=0.2, random_state=42)\n",
        "clf = SVC(kernel='linear')\n",
        "clf.fit(X_train, y_train)\n",
        "accuracy = clf.score(X_test, y_test)\n",
        "print(\"Accuracy:\", accuracy)"
      ],
      "cell_type": "code",
      "metadata": {
        "colab": {
          "base_uri": "https://localhost:8080/"
        },
        "id": "bRNi9394dFnt",
        "outputId": "eb537f2b-38d8-46b7-d60a-b7aa1a8c1f60"
      },
      "execution_count": 22,
      "outputs": [
        {
          "output_type": "stream",
          "name": "stdout",
          "text": [
            "Index(['review', 'sentiment'], dtype='object')\n",
            "Accuracy: 0.5694444444444444\n"
          ]
        }
      ]
    }
  ]
}